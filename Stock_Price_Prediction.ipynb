{
  "cells": [
    {
      "cell_type": "markdown",
      "metadata": {
        "id": "view-in-github",
        "colab_type": "text"
      },
      "source": [
        "<a href=\"https://colab.research.google.com/github/liorcunusaa/Data-Science/blob/main/Stock_Price_Prediction.ipynb\" target=\"_parent\"><img src=\"https://colab.research.google.com/assets/colab-badge.svg\" alt=\"Open In Colab\"/></a>"
      ]
    },
    {
      "metadata": {
        "_uuid": "8f2839f25d086af736a60e9eeb907d3b93b6e0e5",
        "_cell_guid": "b1076dfc-b9ad-4769-8c92-a6c4dae69d19",
        "trusted": true,
        "id": "Zepyq8M0LbRX"
      },
      "cell_type": "code",
      "source": [
        "import numpy as np\n",
        "import pandas as pd\n",
        "from sklearn.preprocessing import MinMaxScaler\n",
        "from tensorflow.keras.models import Sequential\n",
        "from tensorflow.keras.layers import SimpleRNN, Dense\n",
        "from sklearn.metrics import mean_squared_error\n",
        "from tensorflow.keras.layers import LSTM, Dropout\n",
        "import matplotlib.pyplot as plt\n",
        "import itertools\n",
        "from datetime import datetime"
      ],
      "execution_count": null,
      "outputs": []
    },
    {
      "metadata": {
        "id": "fiVM4_YaLbRZ"
      },
      "cell_type": "markdown",
      "source": [
        "# Preprocess data"
      ]
    },
    {
      "metadata": {
        "id": "-_iLa9XOLbRZ"
      },
      "cell_type": "markdown",
      "source": [
        "## Melihat isi data"
      ]
    },
    {
      "metadata": {
        "trusted": true,
        "id": "Q0vvMo2hLbRa",
        "outputId": "6644e8a9-3c51-451b-bdfa-42d6b9230351"
      },
      "cell_type": "code",
      "source": [
        "data = pd.read_csv(\"train_IBM.csv\", index_col='Date', parse_dates=['Date'])\n",
        "data.head()"
      ],
      "execution_count": null,
      "outputs": [
        {
          "output_type": "execute_result",
          "execution_count": 2,
          "data": {
            "text/plain": "             Open   High    Low  Close      Volume Name\nDate                                                   \n2006-01-03  82.45  82.55  80.81  82.06  11715200.0  IBM\n2006-01-04  82.20  82.50  81.33  81.95   9840600.0  IBM\n2006-01-05  81.40  82.90  81.00  82.50   7213500.0  IBM\n2006-01-06  83.95  85.03  83.41  84.95   8197400.0  IBM\n2006-01-09  84.10  84.25  83.38  83.73   6858200.0  IBM",
            "text/html": "<div>\n<style scoped>\n    .dataframe tbody tr th:only-of-type {\n        vertical-align: middle;\n    }\n\n    .dataframe tbody tr th {\n        vertical-align: top;\n    }\n\n    .dataframe thead th {\n        text-align: right;\n    }\n</style>\n<table border=\"1\" class=\"dataframe\">\n  <thead>\n    <tr style=\"text-align: right;\">\n      <th></th>\n      <th>Open</th>\n      <th>High</th>\n      <th>Low</th>\n      <th>Close</th>\n      <th>Volume</th>\n      <th>Name</th>\n    </tr>\n    <tr>\n      <th>Date</th>\n      <th></th>\n      <th></th>\n      <th></th>\n      <th></th>\n      <th></th>\n      <th></th>\n    </tr>\n  </thead>\n  <tbody>\n    <tr>\n      <th>2006-01-03</th>\n      <td>82.45</td>\n      <td>82.55</td>\n      <td>80.81</td>\n      <td>82.06</td>\n      <td>11715200.0</td>\n      <td>IBM</td>\n    </tr>\n    <tr>\n      <th>2006-01-04</th>\n      <td>82.20</td>\n      <td>82.50</td>\n      <td>81.33</td>\n      <td>81.95</td>\n      <td>9840600.0</td>\n      <td>IBM</td>\n    </tr>\n    <tr>\n      <th>2006-01-05</th>\n      <td>81.40</td>\n      <td>82.90</td>\n      <td>81.00</td>\n      <td>82.50</td>\n      <td>7213500.0</td>\n      <td>IBM</td>\n    </tr>\n    <tr>\n      <th>2006-01-06</th>\n      <td>83.95</td>\n      <td>85.03</td>\n      <td>83.41</td>\n      <td>84.95</td>\n      <td>8197400.0</td>\n      <td>IBM</td>\n    </tr>\n    <tr>\n      <th>2006-01-09</th>\n      <td>84.10</td>\n      <td>84.25</td>\n      <td>83.38</td>\n      <td>83.73</td>\n      <td>6858200.0</td>\n      <td>IBM</td>\n    </tr>\n  </tbody>\n</table>\n</div>"
          },
          "metadata": {}
        }
      ]
    },
    {
      "metadata": {
        "id": "XVNwdHn2LbRa"
      },
      "cell_type": "markdown",
      "source": [
        "## Mengecek apakah ada nilai `null` dalam data\n",
        "Jika terdapat nilai `NaN` dalam data, maka akan di-drop"
      ]
    },
    {
      "metadata": {
        "trusted": true,
        "id": "9pn84CJELbRa",
        "outputId": "9bf0e36a-01d5-4632-944c-38c28ebea2d6"
      },
      "cell_type": "code",
      "source": [
        "data.isnull().sum()"
      ],
      "execution_count": null,
      "outputs": [
        {
          "output_type": "execute_result",
          "execution_count": 3,
          "data": {
            "text/plain": "Open      322\nHigh      322\nLow       322\nClose     322\nVolume    322\nName      322\ndtype: int64"
          },
          "metadata": {}
        }
      ]
    },
    {
      "metadata": {
        "trusted": true,
        "id": "KKsIfzTTLbRa",
        "outputId": "d8fd1df0-32f5-4f1b-e8aa-6ab40ee15d6f"
      },
      "cell_type": "code",
      "source": [
        "data.dropna(inplace=True)\n",
        "data.isnull().sum()"
      ],
      "execution_count": null,
      "outputs": [
        {
          "output_type": "execute_result",
          "execution_count": 4,
          "data": {
            "text/plain": "Open      0\nHigh      0\nLow       0\nClose     0\nVolume    0\nName      0\ndtype: int64"
          },
          "metadata": {}
        }
      ]
    },
    {
      "metadata": {
        "id": "Q98arke4LbRa"
      },
      "cell_type": "markdown",
      "source": [
        "## Jumlah baris data"
      ]
    },
    {
      "metadata": {
        "trusted": true,
        "id": "8XJp3DkJLbRa",
        "outputId": "509411aa-9289-45c6-9d23-79f1706a67cc"
      },
      "cell_type": "code",
      "source": [
        "len(data)"
      ],
      "execution_count": null,
      "outputs": [
        {
          "output_type": "execute_result",
          "execution_count": 5,
          "data": {
            "text/plain": "2698"
          },
          "metadata": {}
        }
      ]
    },
    {
      "metadata": {
        "id": "Z2obMmhNLbRa"
      },
      "cell_type": "markdown",
      "source": [
        "## Menyiapkan data latih dan uji"
      ]
    },
    {
      "metadata": {
        "id": "UPKWSQClLbRb"
      },
      "cell_type": "markdown",
      "source": [
        "### Menyiapkan training set"
      ]
    },
    {
      "metadata": {
        "trusted": true,
        "id": "Od0ujou-LbRb"
      },
      "cell_type": "code",
      "source": [
        "training_set = data['Close'].values.reshape(-1, 1)\n",
        "test_set = pd.read_csv(\"sample_submission.csv\", index_col='Date', parse_dates=['Date']).values.reshape(-1, 1)"
      ],
      "execution_count": null,
      "outputs": []
    },
    {
      "metadata": {
        "id": "WEAk6lt1LbRb"
      },
      "cell_type": "markdown",
      "source": [
        "### Meng-scale training set\n",
        "Dari seluruh data yang sudah ada, akan dilakukan min-max scaling, agar nilainya berada pada range (0,1)"
      ]
    },
    {
      "metadata": {
        "trusted": true,
        "id": "7OzWJEaxLbRb",
        "outputId": "ec16c04d-fe6b-4fda-8e42-bea5db98107b"
      },
      "cell_type": "code",
      "source": [
        "scaler = MinMaxScaler(feature_range=(0,1))\n",
        "training_set_scaled = scaler.fit_transform(training_set)\n",
        "training_set_scaled.shape"
      ],
      "execution_count": null,
      "outputs": [
        {
          "output_type": "execute_result",
          "execution_count": 7,
          "data": {
            "text/plain": "(2698, 1)"
          },
          "metadata": {}
        }
      ]
    },
    {
      "metadata": {
        "id": "HQvlxXFXLbRb"
      },
      "cell_type": "markdown",
      "source": [
        "Untuk model ini akan menggunakan 60 timestep dan 1 output"
      ]
    },
    {
      "metadata": {
        "trusted": true,
        "id": "MFU4RDP2LbRb",
        "outputId": "0e0bac23-ad90-44c8-efce-e2da9df918b3"
      },
      "cell_type": "code",
      "source": [
        "X_train = []\n",
        "y_train = []\n",
        "timestep = 60\n",
        "print(training_set_scaled.shape[0])\n",
        "for i in range(timestep, training_set_scaled.shape[0]) :\n",
        "    X_train.append(training_set_scaled[i-timestep:i, 0])\n",
        "    y_train.append(training_set_scaled[i, 0])\n",
        "X_train, y_train = np.array(X_train), np.array(y_train)"
      ],
      "execution_count": null,
      "outputs": [
        {
          "output_type": "stream",
          "text": "2698\n",
          "name": "stdout"
        }
      ]
    },
    {
      "metadata": {
        "id": "wVfkJ_YuLbRb"
      },
      "cell_type": "markdown",
      "source": [
        "Me-reshape X_train agar bisa digunakan oleh model yang akan dibangun"
      ]
    },
    {
      "metadata": {
        "trusted": true,
        "id": "ShC8BGVtLbRb"
      },
      "cell_type": "code",
      "source": [
        "X_train = np.reshape(X_train, (X_train.shape[0], X_train.shape[1], 1))"
      ],
      "execution_count": null,
      "outputs": []
    },
    {
      "metadata": {
        "id": "vG-x64BqLbRc"
      },
      "cell_type": "markdown",
      "source": [
        "# Membuat model"
      ]
    },
    {
      "metadata": {
        "id": "XHIV4ZesLbRc"
      },
      "cell_type": "markdown",
      "source": [
        "## Model RNN\n"
      ]
    },
    {
      "metadata": {
        "trusted": true,
        "id": "qtiWZPXnLbRc",
        "outputId": "190f7b12-2d89-4ad2-8380-6a9b75df2422"
      },
      "cell_type": "code",
      "source": [
        "rnn_regressor = Sequential()\n",
        "rnn_regressor.add(SimpleRNN(50, input_shape=(X_train.shape[1], 1)))\n",
        "rnn_regressor.add(Dense(1, activation='linear'))\n",
        "\n",
        "rnn_regressor.summary()"
      ],
      "execution_count": null,
      "outputs": [
        {
          "output_type": "stream",
          "text": "Model: \"sequential\"\n_________________________________________________________________\nLayer (type)                 Output Shape              Param #   \n=================================================================\nsimple_rnn (SimpleRNN)       (None, 50)                2600      \n_________________________________________________________________\ndense (Dense)                (None, 1)                 51        \n=================================================================\nTotal params: 2,651\nTrainable params: 2,651\nNon-trainable params: 0\n_________________________________________________________________\n",
          "name": "stdout"
        }
      ]
    },
    {
      "metadata": {
        "id": "FGVcJfLTLbRc"
      },
      "cell_type": "markdown",
      "source": [
        "### Training model RNN"
      ]
    },
    {
      "metadata": {
        "trusted": true,
        "id": "OO7D344OLbRc",
        "outputId": "9fdf822e-0b0b-4c7f-ae9c-88464aa20e3e"
      },
      "cell_type": "code",
      "source": [
        "# Compile model RNN\n",
        "rnn_regressor.compile(optimizer='rmsprop', loss='mean_squared_error')\n",
        "# Fit model ke training set\n",
        "rnn_regressor.fit(X_train, y_train, epochs=50, batch_size=32, verbose=2)"
      ],
      "execution_count": null,
      "outputs": [
        {
          "output_type": "stream",
          "text": "Epoch 1/50\n83/83 - 1s - loss: 0.0039\nEpoch 2/50\n83/83 - 1s - loss: 0.0011\nEpoch 3/50\n83/83 - 1s - loss: 6.6147e-04\nEpoch 4/50\n83/83 - 1s - loss: 5.3095e-04\nEpoch 5/50\n83/83 - 1s - loss: 4.5992e-04\nEpoch 6/50\n83/83 - 1s - loss: 4.2151e-04\nEpoch 7/50\n83/83 - 1s - loss: 3.7046e-04\nEpoch 8/50\n83/83 - 1s - loss: 3.5654e-04\nEpoch 9/50\n83/83 - 1s - loss: 3.3596e-04\nEpoch 10/50\n83/83 - 1s - loss: 3.2595e-04\nEpoch 11/50\n83/83 - 1s - loss: 3.1585e-04\nEpoch 12/50\n83/83 - 1s - loss: 2.8981e-04\nEpoch 13/50\n83/83 - 1s - loss: 2.9096e-04\nEpoch 14/50\n83/83 - 1s - loss: 2.8736e-04\nEpoch 15/50\n83/83 - 1s - loss: 2.6701e-04\nEpoch 16/50\n83/83 - 1s - loss: 2.7833e-04\nEpoch 17/50\n83/83 - 1s - loss: 2.5231e-04\nEpoch 18/50\n83/83 - 1s - loss: 2.5218e-04\nEpoch 19/50\n83/83 - 1s - loss: 2.6752e-04\nEpoch 20/50\n83/83 - 1s - loss: 2.5406e-04\nEpoch 21/50\n83/83 - 1s - loss: 2.4941e-04\nEpoch 22/50\n83/83 - 1s - loss: 2.5428e-04\nEpoch 23/50\n83/83 - 1s - loss: 2.4960e-04\nEpoch 24/50\n83/83 - 1s - loss: 2.5043e-04\nEpoch 25/50\n83/83 - 1s - loss: 2.4645e-04\nEpoch 26/50\n83/83 - 1s - loss: 2.4675e-04\nEpoch 27/50\n83/83 - 1s - loss: 2.5205e-04\nEpoch 28/50\n83/83 - 1s - loss: 2.4434e-04\nEpoch 29/50\n83/83 - 1s - loss: 2.4741e-04\nEpoch 30/50\n83/83 - 1s - loss: 2.3137e-04\nEpoch 31/50\n83/83 - 1s - loss: 2.4198e-04\nEpoch 32/50\n83/83 - 1s - loss: 2.4542e-04\nEpoch 33/50\n83/83 - 1s - loss: 2.3328e-04\nEpoch 34/50\n83/83 - 1s - loss: 2.4689e-04\nEpoch 35/50\n83/83 - 1s - loss: 2.3325e-04\nEpoch 36/50\n83/83 - 1s - loss: 2.3790e-04\nEpoch 37/50\n83/83 - 1s - loss: 2.3566e-04\nEpoch 38/50\n83/83 - 1s - loss: 2.2845e-04\nEpoch 39/50\n83/83 - 1s - loss: 2.3403e-04\nEpoch 40/50\n83/83 - 1s - loss: 2.2921e-04\nEpoch 41/50\n83/83 - 1s - loss: 2.2680e-04\nEpoch 42/50\n83/83 - 1s - loss: 2.3552e-04\nEpoch 43/50\n83/83 - 1s - loss: 2.4034e-04\nEpoch 44/50\n83/83 - 1s - loss: 2.3145e-04\nEpoch 45/50\n83/83 - 1s - loss: 2.3054e-04\nEpoch 46/50\n83/83 - 1s - loss: 2.3590e-04\nEpoch 47/50\n83/83 - 1s - loss: 2.3041e-04\nEpoch 48/50\n83/83 - 1s - loss: 2.3328e-04\nEpoch 49/50\n83/83 - 1s - loss: 2.2647e-04\nEpoch 50/50\n83/83 - 1s - loss: 2.3596e-04\n",
          "name": "stdout"
        },
        {
          "output_type": "execute_result",
          "execution_count": 11,
          "data": {
            "text/plain": "<tensorflow.python.keras.callbacks.History at 0x7f36483eb450>"
          },
          "metadata": {}
        }
      ]
    },
    {
      "metadata": {
        "id": "dgmTO29BLbRc"
      },
      "cell_type": "markdown",
      "source": [
        "## Model modifikasi\n",
        "Model RNN akan dimodifikasi menggunakan layer LSTM dengan hidden unit sebanyak 60, dan pada output layer menggunakan Dense layer sebanyak satu unit dengan fungsi aktivasi linear"
      ]
    },
    {
      "metadata": {
        "id": "5YgGEnsoLbRc"
      },
      "cell_type": "markdown",
      "source": [
        "### Summary"
      ]
    },
    {
      "metadata": {
        "trusted": true,
        "id": "PVi_Uvb3LbRc",
        "outputId": "d51f0d1c-2ef2-4392-cf8b-8b4fa8949ad9"
      },
      "cell_type": "code",
      "source": [
        "mod_regressor = Sequential()\n",
        "mod_regressor.add(LSTM(60, input_shape=(X_train.shape[1], 1)))\n",
        "mod_regressor.add(Dense(1, activation='linear'))\n",
        "\n",
        "mod_regressor.summary()"
      ],
      "execution_count": null,
      "outputs": [
        {
          "output_type": "stream",
          "text": "Model: \"sequential_2\"\n_________________________________________________________________\nLayer (type)                 Output Shape              Param #   \n=================================================================\nlstm (LSTM)                  (None, 60)                14880     \n_________________________________________________________________\ndense_1 (Dense)              (None, 1)                 61        \n=================================================================\nTotal params: 14,941\nTrainable params: 14,941\nNon-trainable params: 0\n_________________________________________________________________\n",
          "name": "stdout"
        }
      ]
    },
    {
      "metadata": {
        "id": "w_IhGtF0LbRc"
      },
      "cell_type": "markdown",
      "source": [
        "### Training model modifikasi"
      ]
    },
    {
      "metadata": {
        "trusted": true,
        "id": "L2ZtnYpgLbRd",
        "outputId": "1ee5aa96-d82a-42d9-8d15-9b675ee8fbd9"
      },
      "cell_type": "code",
      "source": [
        "# Compile model modifikasi\n",
        "mod_regressor.compile(optimizer='rmsprop', loss='mean_squared_error')\n",
        "# Fit model ke training set\n",
        "mod_regressor.fit(X_train, y_train, epochs=50, batch_size=32, verbose=2)"
      ],
      "execution_count": null,
      "outputs": [
        {
          "output_type": "stream",
          "text": "Epoch 1/50\n83/83 - 2s - loss: 0.0135\nEpoch 2/50\n83/83 - 2s - loss: 0.0017\nEpoch 3/50\n83/83 - 2s - loss: 0.0012\nEpoch 4/50\n83/83 - 2s - loss: 9.6571e-04\nEpoch 5/50\n83/83 - 2s - loss: 8.5169e-04\nEpoch 6/50\n83/83 - 2s - loss: 6.9948e-04\nEpoch 7/50\n83/83 - 2s - loss: 6.7351e-04\nEpoch 8/50\n83/83 - 2s - loss: 5.9901e-04\nEpoch 9/50\n83/83 - 2s - loss: 5.2471e-04\nEpoch 10/50\n83/83 - 2s - loss: 5.2608e-04\nEpoch 11/50\n83/83 - 2s - loss: 5.0226e-04\nEpoch 12/50\n83/83 - 2s - loss: 4.3831e-04\nEpoch 13/50\n83/83 - 2s - loss: 4.5046e-04\nEpoch 14/50\n83/83 - 2s - loss: 4.2205e-04\nEpoch 15/50\n83/83 - 2s - loss: 4.0652e-04\nEpoch 16/50\n83/83 - 2s - loss: 3.8893e-04\nEpoch 17/50\n83/83 - 2s - loss: 3.4781e-04\nEpoch 18/50\n83/83 - 1s - loss: 3.7447e-04\nEpoch 19/50\n83/83 - 2s - loss: 3.4584e-04\nEpoch 20/50\n83/83 - 1s - loss: 3.5623e-04\nEpoch 21/50\n83/83 - 1s - loss: 3.4298e-04\nEpoch 22/50\n83/83 - 2s - loss: 3.3216e-04\nEpoch 23/50\n83/83 - 2s - loss: 3.3316e-04\nEpoch 24/50\n83/83 - 2s - loss: 3.2132e-04\nEpoch 25/50\n83/83 - 2s - loss: 3.0593e-04\nEpoch 26/50\n83/83 - 2s - loss: 3.1395e-04\nEpoch 27/50\n83/83 - 2s - loss: 3.0193e-04\nEpoch 28/50\n83/83 - 1s - loss: 2.9987e-04\nEpoch 29/50\n83/83 - 1s - loss: 2.9674e-04\nEpoch 30/50\n83/83 - 1s - loss: 3.0283e-04\nEpoch 31/50\n83/83 - 2s - loss: 2.8556e-04\nEpoch 32/50\n83/83 - 2s - loss: 3.0154e-04\nEpoch 33/50\n83/83 - 2s - loss: 2.9758e-04\nEpoch 34/50\n83/83 - 2s - loss: 2.8684e-04\nEpoch 35/50\n83/83 - 2s - loss: 2.8719e-04\nEpoch 36/50\n83/83 - 1s - loss: 2.9289e-04\nEpoch 37/50\n83/83 - 2s - loss: 2.8157e-04\nEpoch 38/50\n83/83 - 2s - loss: 2.7937e-04\nEpoch 39/50\n83/83 - 1s - loss: 2.8388e-04\nEpoch 40/50\n83/83 - 2s - loss: 2.8338e-04\nEpoch 41/50\n83/83 - 1s - loss: 2.8503e-04\nEpoch 42/50\n83/83 - 2s - loss: 2.6920e-04\nEpoch 43/50\n83/83 - 2s - loss: 2.8062e-04\nEpoch 44/50\n83/83 - 2s - loss: 2.6490e-04\nEpoch 45/50\n83/83 - 2s - loss: 2.7038e-04\nEpoch 46/50\n83/83 - 2s - loss: 2.7942e-04\nEpoch 47/50\n83/83 - 2s - loss: 2.6044e-04\nEpoch 48/50\n83/83 - 2s - loss: 2.6945e-04\nEpoch 49/50\n83/83 - 1s - loss: 2.6595e-04\nEpoch 50/50\n83/83 - 1s - loss: 2.5098e-04\n",
          "name": "stdout"
        },
        {
          "output_type": "execute_result",
          "execution_count": 14,
          "data": {
            "text/plain": "<tensorflow.python.keras.callbacks.History at 0x7f36301b3310>"
          },
          "metadata": {}
        }
      ]
    },
    {
      "metadata": {
        "id": "Vova6qbgLbRd"
      },
      "cell_type": "markdown",
      "source": [
        "# Prediksi harga stock\n",
        "Prediksi harga stock menggunakan model-model yang sudah di-train dengan training set yang sudah di-scale"
      ]
    },
    {
      "metadata": {
        "id": "Doy59STWLbRd"
      },
      "cell_type": "markdown",
      "source": [
        "Untuk bisa memprediksi nilai harga stock pada tanggal-tanggal setelahnya, maka perlu data harga stock pada data training. Oleh karena itu, data harus digabungkan terlebih dahulu"
      ]
    },
    {
      "metadata": {
        "trusted": true,
        "id": "286l945qLbRd"
      },
      "cell_type": "code",
      "source": [
        "total_set = [training_set, test_set]\n",
        "total_set = np.array(list(itertools.chain.from_iterable(total_set)))"
      ],
      "execution_count": null,
      "outputs": []
    },
    {
      "metadata": {
        "id": "iLYY87L5LbRd"
      },
      "cell_type": "markdown",
      "source": [
        "Setelah itu, mengambil 60 data terakhir dari training data untuk memprediksi data-data pada tanggal setelahnya"
      ]
    },
    {
      "metadata": {
        "trusted": true,
        "id": "zDpbhNgQLbRd"
      },
      "cell_type": "code",
      "source": [
        "inputs = total_set[len(total_set)-len(test_set) - timestep:]\n",
        "inputs = inputs.reshape(-1,1)\n",
        "inputs = scaler.transform(inputs)"
      ],
      "execution_count": null,
      "outputs": []
    },
    {
      "metadata": {
        "trusted": true,
        "id": "ldY2unAoLbRd"
      },
      "cell_type": "code",
      "source": [
        "X_test = []\n",
        "for i in range(timestep,len(inputs)):\n",
        "    X_test.append(inputs[i-timestep:i,0])\n",
        "X_test = np.array(X_test)\n",
        "X_test = np.reshape(X_test, (X_test.shape[0],X_test.shape[1],1))"
      ],
      "execution_count": null,
      "outputs": []
    },
    {
      "metadata": {
        "id": "FSE-44hgLbRd"
      },
      "cell_type": "markdown",
      "source": [
        "Hasil prediksi disimpan dalam sebuah variabel"
      ]
    },
    {
      "metadata": {
        "trusted": true,
        "id": "8y4fSwmALbRd",
        "outputId": "a10945fe-6279-4d50-828c-a429e1c9db6a"
      },
      "cell_type": "code",
      "source": [
        "predicted = mod_regressor(X_test)\n",
        "predicted = scaler.inverse_transform(predicted)\n",
        "predicted.shape"
      ],
      "execution_count": null,
      "outputs": [
        {
          "output_type": "execute_result",
          "execution_count": 18,
          "data": {
            "text/plain": "(321, 1)"
          },
          "metadata": {}
        }
      ]
    },
    {
      "metadata": {
        "id": "3DGz4aYdLbRe"
      },
      "cell_type": "markdown",
      "source": [
        "Berikut ini perbandingan nilai prediksi model dan nilai dari test set awal saat me-load `sample_submission.csv`"
      ]
    },
    {
      "metadata": {
        "trusted": true,
        "id": "0nbTiJfDLbRe",
        "outputId": "a9999512-1f16-46f9-f7d7-ba4bf1b827ca"
      },
      "cell_type": "code",
      "source": [
        "def plot_predictions(test,predicted):\n",
        "    plt.plot(test, color='red',label='Real IBM Stock Price')\n",
        "    plt.plot(predicted, color='blue',label='Predicted IBM Stock Price')\n",
        "    plt.title('IBM Stock Price Prediction')\n",
        "    plt.xlabel('Time')\n",
        "    plt.ylabel('IBM Stock Price')\n",
        "    plt.legend()\n",
        "    plt.show()\n",
        "\n",
        "plot_predictions(test_set, predicted)"
      ],
      "execution_count": null,
      "outputs": [
        {
          "output_type": "display_data",
          "data": {
            "text/plain": "<Figure size 432x288 with 1 Axes>",
            "image/png": "[encoded data removed]"
          },
          "metadata": {
            "needs_background": "light"
          }
        }
      ]
    },
    {
      "metadata": {
        "trusted": true,
        "id": "FPjTdjw-LbRe",
        "outputId": "5ebdc716-a288-4aea-880b-0385716a4e07"
      },
      "cell_type": "code",
      "source": [
        "import math\n",
        "\n",
        "def rmse_value(test,predicted):\n",
        "    rmse = math.sqrt(mean_squared_error(test, predicted))\n",
        "    print(\"Nilai rmse dari hasil prediksi adalah {}.\".format(rmse))\n",
        "\n",
        "rmse_value(test_set, predicted)"
      ],
      "execution_count": null,
      "outputs": [
        {
          "output_type": "stream",
          "text": "Nilai rmse dari hasil prediksi adalah 1.9982399521281515.\n",
          "name": "stdout"
        }
      ]
    }
  ],
  "metadata": {
    "kernelspec": {
      "name": "python3",
      "display_name": "Python 3",
      "language": "python"
    },
    "language_info": {
      "name": "python",
      "version": "3.7.6",
      "mimetype": "text/x-python",
      "codemirror_mode": {
        "name": "ipython",
        "version": 3
      },
      "pygments_lexer": "ipython3",
      "nbconvert_exporter": "python",
      "file_extension": ".py"
    },
    "colab": {
      "provenance": [],
      "include_colab_link": true
    }
  },
  "nbformat": 4,
  "nbformat_minor": 0
}